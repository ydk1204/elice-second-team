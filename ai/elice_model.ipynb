{
 "cells": [
  {
   "cell_type": "code",
   "execution_count": null,
   "metadata": {
    "executionInfo": {
     "elapsed": 6234,
     "status": "ok",
     "timestamp": 1645464287538,
     "user": {
      "displayName": "권용찬",
      "photoUrl": "https://lh3.googleusercontent.com/a-/AOh14Ght8H8zZtbhWx02cFtHz0CgKUlClet5KlsCZmAoiA=s64",
      "userId": "00508429061058674342"
     },
     "user_tz": -540
    },
    "id": "V0ItUJf1vA88"
   },
   "outputs": [],
   "source": [
    "import os\n",
    "import pathlib\n",
    "import numpy as np\n",
    "import matplotlib.pyplot as plt\n",
    "from tqdm import tqdm\n",
    "import sklearn\n",
    "from sklearn.model_selection import train_test_split\n",
    "from tensorflow.keras.preprocessing import image\n",
    "from tensorflow.keras.preprocessing.image import ImageDataGenerator, img_to_array, array_to_img, load_img\n",
    "from tensorflow.keras.utils import to_categorical\n",
    "from tensorflow.keras.layers import Conv2D, MaxPool2D, Dense, Flatten, Dropout\n",
    "from tensorflow.keras.models import Sequential\n",
    "\n",
    "\n",
    "%matplotlib inline"
   ]
  },
  {
   "cell_type": "code",
   "execution_count": null,
   "metadata": {
    "colab": {
     "base_uri": "https://localhost:8080/",
     "height": 424
    },
    "executionInfo": {
     "elapsed": 1051,
     "status": "ok",
     "timestamp": 1645464316376,
     "user": {
      "displayName": "권용찬",
      "photoUrl": "https://lh3.googleusercontent.com/a-/AOh14Ght8H8zZtbhWx02cFtHz0CgKUlClet5KlsCZmAoiA=s64",
      "userId": "00508429061058674342"
     },
     "user_tz": -540
    },
    "id": "n_g4_8HMvQwX",
    "outputId": "95da4dab-9e7a-4834-cbd7-a04bb3bbe7ba",
    "scrolled": false
   },
   "outputs": [],
   "source": [
    "import pandas as pd\n",
    "\n",
    "df_Train = pd.read_csv('/푸르댕댕/images/data/train.csv')\n",
    "df_Train"
   ]
  },
  {
   "cell_type": "code",
   "execution_count": null,
   "metadata": {
    "id": "xE9FAxNivvyB"
   },
   "outputs": [],
   "source": [
    "from PIL import Image\n",
    "from PIL import ImageDraw\n",
    "\n",
    "img_sample = Image.open(df_Train['Path'][0])\n",
    "\n",
    "draw = ImageDraw.Draw(img_sample)\n",
    "img_sample_resized = img_sample.resize((224, 224))\n",
    "resized_1 = img_sample_resized"
   ]
  },
  {
   "cell_type": "code",
   "execution_count": null,
   "metadata": {
    "colab": {
     "base_uri": "https://localhost:8080/",
     "height": 241
    },
    "executionInfo": {
     "elapsed": 2,
     "status": "ok",
     "timestamp": 1645248514274,
     "user": {
      "displayName": "권용찬",
      "photoUrl": "https://lh3.googleusercontent.com/a-/AOh14Ght8H8zZtbhWx02cFtHz0CgKUlClet5KlsCZmAoiA=s64",
      "userId": "00508429061058674342"
     },
     "user_tz": -540
    },
    "id": "gh-riZjQwePZ",
    "outputId": "15ec1158-b23a-4451-a1ad-e44d76e7e009"
   },
   "outputs": [],
   "source": [
    "resized_1"
   ]
  },
  {
   "cell_type": "markdown",
   "metadata": {
    "id": "sj63eSh2008V"
   },
   "source": [
    "### 이미지 데이터 읽기\n",
    "## 학습용 이미지 불러와 Train_images 에 array 형태로 저장\n",
    "\n",
    "- 모델별로 인풋 사이즈 수정\n",
    "    - CNN = 128\n",
    "    - ResNet = 224"
   ]
  },
  {
   "cell_type": "code",
   "execution_count": null,
   "metadata": {
    "colab": {
     "base_uri": "https://localhost:8080/"
    },
    "executionInfo": {
     "elapsed": 785752,
     "status": "ok",
     "timestamp": 1645273001219,
     "user": {
      "displayName": "권용찬",
      "photoUrl": "https://lh3.googleusercontent.com/a-/AOh14Ght8H8zZtbhWx02cFtHz0CgKUlClet5KlsCZmAoiA=s64",
      "userId": "00508429061058674342"
     },
     "user_tz": -540
    },
    "id": "N4Cp4KcXx7ti",
    "outputId": "92d72d63-0e87-4c55-f663-e83962e184c4"
   },
   "outputs": [],
   "source": [
    "image_height = 224\n",
    "image_width = 224\n",
    "image_channel = 3\n",
    "\n",
    "Train_images = []\n",
    "Train_labels = []\n",
    "\n",
    "for i in tqdm(range(len(df_Train))):\n",
    "    img = load_img(df_Train['Path'][i], target_size = (image_height, image_width))\n",
    "    img = img_to_array(img)\n",
    "    Train_images.append(img)"
   ]
  },
  {
   "cell_type": "markdown",
   "metadata": {
    "id": "hwBa_tog0-HV"
   },
   "source": [
    "- 같은 방식으로 Test_images 에 array 형태로 저장"
   ]
  },
  {
   "cell_type": "code",
   "execution_count": null,
   "metadata": {
    "colab": {
     "base_uri": "https://localhost:8080/",
     "height": 424
    },
    "executionInfo": {
     "elapsed": 1040,
     "status": "ok",
     "timestamp": 1645464334213,
     "user": {
      "displayName": "권용찬",
      "photoUrl": "https://lh3.googleusercontent.com/a-/AOh14Ght8H8zZtbhWx02cFtHz0CgKUlClet5KlsCZmAoiA=s64",
      "userId": "00508429061058674342"
     },
     "user_tz": -540
    },
    "id": "_Vex27vR2M6v",
    "outputId": "9b1759b6-e2ef-425a-f37f-2fa196616c37"
   },
   "outputs": [],
   "source": [
    "df_Test = pd.read_csv('/content/drive/MyDrive/Mac/data/test.csv')\n",
    "df_Test"
   ]
  },
  {
   "cell_type": "code",
   "execution_count": null,
   "metadata": {
    "colab": {
     "base_uri": "https://localhost:8080/",
     "height": 253
    },
    "executionInfo": {
     "elapsed": 527,
     "status": "error",
     "timestamp": 1645464337348,
     "user": {
      "displayName": "권용찬",
      "photoUrl": "https://lh3.googleusercontent.com/a-/AOh14Ght8H8zZtbhWx02cFtHz0CgKUlClet5KlsCZmAoiA=s64",
      "userId": "00508429061058674342"
     },
     "user_tz": -540
    },
    "id": "SGSTP_tOyWqI",
    "outputId": "35209000-c07a-4d5e-bdb1-1cb3f1f4aede"
   },
   "outputs": [],
   "source": [
    "Test_images = []\n",
    "Test_labels = []\n",
    "\n",
    "for i in tqdm(range(len(df_Test))):\n",
    "    img = load_img(df_Test['Path'][i], target_size = (image_height, image_width))\n",
    "    img = img_to_array(img)\n",
    "    Test_images.append(img)"
   ]
  },
  {
   "cell_type": "code",
   "execution_count": null,
   "metadata": {
    "id": "kSOkOs330qOp"
   },
   "outputs": [],
   "source": [
    "Train_labels = df_Train['ClassId'].values\n",
    "Train_labels"
   ]
  },
  {
   "cell_type": "code",
   "execution_count": null,
   "metadata": {
    "colab": {
     "base_uri": "https://localhost:8080/"
    },
    "executionInfo": {
     "elapsed": 524,
     "status": "ok",
     "timestamp": 1645464391873,
     "user": {
      "displayName": "권용찬",
      "photoUrl": "https://lh3.googleusercontent.com/a-/AOh14Ght8H8zZtbhWx02cFtHz0CgKUlClet5KlsCZmAoiA=s64",
      "userId": "00508429061058674342"
     },
     "user_tz": -540
    },
    "id": "zIG9dsnJ0tK7",
    "outputId": "2846da2e-97ba-451a-bb7d-88ef341185fe"
   },
   "outputs": [],
   "source": [
    "Test_labels = df_Test['ClassId'].values\n",
    "Test_labels"
   ]
  },
  {
   "cell_type": "markdown",
   "metadata": {
    "id": "xFWxkIkK0vHP"
   },
   "source": [
    "### 데이터 분리하기"
   ]
  },
  {
   "cell_type": "code",
   "execution_count": null,
   "metadata": {
    "id": "1qjiua6g0xan"
   },
   "outputs": [],
   "source": [
    "x_train, x_val, y_train, y_val = train_test_split(np.array(Train_images), np.array(Train_labels), test_size=0.2)"
   ]
  },
  {
   "cell_type": "code",
   "execution_count": null,
   "metadata": {
    "executionInfo": {
     "elapsed": 414,
     "status": "ok",
     "timestamp": 1645464397111,
     "user": {
      "displayName": "권용찬",
      "photoUrl": "https://lh3.googleusercontent.com/a-/AOh14Ght8H8zZtbhWx02cFtHz0CgKUlClet5KlsCZmAoiA=s64",
      "userId": "00508429061058674342"
     },
     "user_tz": -540
    },
    "id": "iZ-pmR_s27PQ"
   },
   "outputs": [],
   "source": [
    "x_test = np.array(Test_images)\n",
    "y_test = np.array(Test_labels)"
   ]
  },
  {
   "cell_type": "code",
   "execution_count": null,
   "metadata": {
    "colab": {
     "base_uri": "https://localhost:8080/"
    },
    "executionInfo": {
     "elapsed": 2,
     "status": "ok",
     "timestamp": 1645464399731,
     "user": {
      "displayName": "권용찬",
      "photoUrl": "https://lh3.googleusercontent.com/a-/AOh14Ght8H8zZtbhWx02cFtHz0CgKUlClet5KlsCZmAoiA=s64",
      "userId": "00508429061058674342"
     },
     "user_tz": -540
    },
    "id": "jdhPk1NCT8V2",
    "outputId": "91366120-786d-411d-9771-b608e7a34517"
   },
   "outputs": [],
   "source": [
    "print(y_test)"
   ]
  },
  {
   "cell_type": "markdown",
   "metadata": {
    "id": "sgTe2euK2-1p"
   },
   "source": [
    "### 딥러닝 모델 설정\n",
    "- CNN 모델 설정"
   ]
  },
  {
   "cell_type": "code",
   "execution_count": null,
   "metadata": {
    "id": "K3BuO6rf299C"
   },
   "outputs": [],
   "source": [
    "model = Sequential([    \n",
    "    Conv2D(filters=32, kernel_size=(3,3), activation='relu', input_shape=(image_height, image_width, image_channel)),\n",
    "    MaxPool2D(pool_size=(2, 2)),\n",
    "    Dropout(rate=0.25),\n",
    "    \n",
    "    Conv2D(filters=64, kernel_size=(3,3), activation='relu'),\n",
    "    MaxPool2D(pool_size=(2, 2)),\n",
    "    Dropout(rate=0.25),\n",
    "    \n",
    "    Flatten(),\n",
    "    Dense(256, activation='relu'),\n",
    "    Dropout(rate=0.25),\n",
    "    Dense(24, activation='softmax')\n",
    "])\n",
    "\n",
    "model.summary()"
   ]
  },
  {
   "cell_type": "markdown",
   "metadata": {
    "id": "S4wQpXSXv0jF"
   },
   "source": [
    "### 딥러닝 모델 설정 2\n",
    "- ResNet 모델"
   ]
  },
  {
   "cell_type": "code",
   "execution_count": null,
   "metadata": {
    "id": "ykPWF6OZv0Iz"
   },
   "outputs": [],
   "source": [
    "import tensorflow as tf\n",
    "from tensorflow import keras\n",
    "from tensorflow.keras.layers import add, Input,Dense,Activation, Flatten, Conv2D, MaxPooling2D, GlobalMaxPooling2D, ZeroPadding2D, AveragePooling2D, GlobalAveragePooling2D, BatchNormalization\n",
    "from tensorflow.keras.models import Model\n",
    "\n",
    "\n",
    "# 입력과 출력의 Dimension이 같은 경우 사용합니다.\n",
    "def identity_block(input_tensor, kernel_size, filters):\n",
    "    \n",
    "    filters1, filters2, filters3 = filters\n",
    "    \n",
    "    x = Conv2D(filters1, (1, 1))(input_tensor)\n",
    "    x = BatchNormalization()(x)\n",
    "    x = Activation('relu')(x)\n",
    "\n",
    "    x = Conv2D(filters2, kernel_size, padding='same')(x)\n",
    "    x = BatchNormalization()(x)\n",
    "    x = Activation('relu')(x)\n",
    "\n",
    "    x = Conv2D(filters3, (1, 1))(x)\n",
    "    x = BatchNormalization()(x)\n",
    "    \n",
    "    # 입력(x) : input_tensor와 F(x) : x를 더해줍니다.\n",
    "    # TODO : add()와 Activation() 메서드를 사용해서 relu(F(x) + x) 의 형태로 만들어보세요. \n",
    "    x = x + input_tensor\n",
    "    x = Activation('relu')(x)\n",
    "    return x\n",
    "\n",
    "\n",
    "def residual_block(input_tensor, kernel_size, filters, strides=(2, 2)):\n",
    "    filters1 , filters2 , filters3 = filters\n",
    "    \n",
    "    # 입력 Feature Map의 Size를 1/2로 줄이는 대신 Feature map의 Dimension을 2배로 늘려줍니다.\n",
    "    x = Conv2D(filters1, (1, 1), strides=strides)(input_tensor)\n",
    "    x = BatchNormalization()(x)\n",
    "    x = Activation('relu')(x)\n",
    "\n",
    "    x = Conv2D(filters2, kernel_size, padding='same')(x)\n",
    "    x = BatchNormalization()(x)\n",
    "    x = Activation('relu')(x)\n",
    "\n",
    "    x = Conv2D(filters3, (1, 1))(x)\n",
    "    x = BatchNormalization()(x)\n",
    "    \n",
    "    # TODO : Projection Shortcut Connection을 구현해보세요.\n",
    "    # 1 x 1 Convolution 연산을 수행하여 Dimension을 2배로 증가시키고\n",
    "    # 입력 Feature map의 size를 1/2로 축소시켜보세요.\n",
    "    shortcut = Conv2D(filters3, (1, 1), strides = strides)(input_tensor)\n",
    "    shortcut = BatchNormalization()(shortcut)\n",
    "\n",
    "    # F(x) : x와 Shortcut Connection : shortcut을 더해줍니다.\n",
    "    # TODO : add()와 Activation() 메서드를 사용해서 relu(F(x) + shortcut) 의 형태로 만들어보세요.\n",
    "    x = x + shortcut\n",
    "    x = Activation('relu')(x)\n",
    "    return x\n",
    "\n",
    "\n",
    "def ResNet50():\n",
    "    # 입력 이미지의 Shape을 정해줍니다.\n",
    "    shape = (224,224,3)\n",
    "    inputs = Input(shape)\n",
    "    \n",
    "    # 입력 영상의 크기를 줄이기 위한 Conv & Max-pooling\n",
    "    x = ZeroPadding2D((3, 3))(inputs)\n",
    "    x = Conv2D(64, (7, 7), strides=(2, 2))(x)\n",
    "    x = BatchNormalization()(x)\n",
    "    x = Activation('relu')(x)\n",
    "    x = MaxPooling2D((3, 3), strides=(2, 2))(x)\n",
    "    \n",
    "    # 첫 번째 Residual Block (입력 영상 Size 2배 축소 / Dimension 2배 증가)\n",
    "    x = residual_block(x, 3, [64, 64, 256], strides=(1, 1))\n",
    "    x = identity_block(x, 3, [64, 64, 256])\n",
    "    x = identity_block(x, 3, [64, 64, 256])\n",
    "    \n",
    "    \n",
    "    # 두 번째 Residual Block (입력 영상 Size 2배 축소 / Dimension 2배 증가)\n",
    "    x = residual_block(x, 3, [128, 128, 512])\n",
    "    x = identity_block(x, 3, [128, 128, 512])\n",
    "    x = identity_block(x, 3, [128, 128, 512])\n",
    "    x = identity_block(x, 3, [128, 128, 512])\n",
    "    \n",
    "    # 세 번째 Residual Block (입력 영상 Size 2배 축소 / Dimension 2배 증가)\n",
    "    x = residual_block(x, 3, [256, 256, 1024])\n",
    "    x = identity_block(x, 3, [256, 256, 1024])\n",
    "    x = identity_block(x, 3, [256, 256, 1024])\n",
    "    x = identity_block(x, 3, [256, 256, 1024])\n",
    "    x = identity_block(x, 3, [256, 256, 1024])\n",
    "    x = identity_block(x, 3, [256, 256, 1024])\n",
    "    \n",
    "    # 네 번째 Residual Block (입력 영상 Size 2배 축소 / Dimension 2배 증가)\n",
    "    x = residual_block(x, 3, [512, 512, 2048])\n",
    "    x = identity_block(x, 3, [512, 512, 2048])\n",
    "    x = identity_block(x, 3, [512, 512, 2048])\n",
    "\n",
    "    # 마지막단에서 FC layer를 쓰지 않고 단순히 Averaging 합니다.\n",
    "    x = AveragePooling2D((7, 7))(x)\n",
    "    x = Flatten()(x)\n",
    "    # 1000개의 Class 구분\n",
    "    x = Dense(24, activation='softmax')(x)\n",
    "    \n",
    "    # 모델 구성\n",
    "    model = Model(inputs, x)\n",
    "    return model\n",
    "\n",
    "model = ResNet50()\n",
    "model.summary()"
   ]
  },
  {
   "cell_type": "markdown",
   "metadata": {
    "id": "Gw2YtKut3TxT"
   },
   "source": [
    "### 모델 학습 수행"
   ]
  },
  {
   "cell_type": "code",
   "execution_count": null,
   "metadata": {
    "id": "7Bq3FGvQ3Ovc"
   },
   "outputs": [],
   "source": [
    "model.compile(\n",
    "    loss='sparse_categorical_crossentropy',\n",
    "    optimizer='adam',\n",
    "    metrics=['accuracy']\n",
    ")"
   ]
  },
  {
   "cell_type": "code",
   "execution_count": null,
   "metadata": {
    "id": "31m_mISW3XXA"
   },
   "outputs": [],
   "source": [
    "# 처음 만든 모델이라면 EPOCHS를 1~5개로 하여 잘 돌아가는지 성능을 확인해보고 값을 증가 시켜 봅시다. \n",
    "EPOCHS = 40\n",
    "\n",
    "# EPOCHS에 따른 성능을 보기 위하여 history 사용\n",
    "history = model.fit(x_train, \n",
    "                    y_train, \n",
    "                    epochs = EPOCHS, \n",
    "                    validation_data = (x_val, y_val), # validation 데이터 사용\n",
    "                    )\n",
    "# test_eval = model.evaluate(x_test,  y_test, verbose=1)"
   ]
  },
  {
   "cell_type": "markdown",
   "metadata": {
    "id": "jjXM7Vm13r9x"
   },
   "source": [
    "### 결과 그래프 보기\n",
    "- 학습 수행시 Accuracy 와 Loss 변화 그래프 출력"
   ]
  },
  {
   "cell_type": "code",
   "execution_count": null,
   "metadata": {
    "id": "xI32jEqd3aW-"
   },
   "outputs": [],
   "source": [
    "accuracy = history.history['accuracy']\n",
    "val_accuracy = history.history['val_accuracy']\n",
    "\n",
    "loss=history.history['loss']\n",
    "val_loss=history.history['val_loss']\n",
    "\n",
    "epochs_range = range(EPOCHS)\n",
    "\n",
    "plt.figure(figsize=(16, 8))\n",
    "plt.subplot(1, 2, 1)\n",
    "plt.plot(epochs_range, accuracy, label='Training Accuracy')\n",
    "plt.plot(epochs_range, val_accuracy, label='Validation Accuracy')\n",
    "plt.legend(loc='lower right')\n",
    "plt.title('Training and Validation Accuracy')\n",
    "\n",
    "plt.subplot(1, 2, 2)\n",
    "plt.plot(epochs_range, loss, label='Training Loss')\n",
    "plt.plot(epochs_range, val_loss, label='Validation Loss')\n",
    "plt.legend(loc='upper right')\n",
    "plt.title('Training and Validation Loss')\n",
    "plt.show()"
   ]
  },
  {
   "cell_type": "markdown",
   "metadata": {
    "id": "BpIKdIhEvRUr"
   },
   "source": [
    "### 모델 성능 평가 및 예측\n",
    "- 평가용 데이터에서 성능 확인"
   ]
  },
  {
   "cell_type": "code",
   "execution_count": null,
   "metadata": {
    "colab": {
     "base_uri": "https://localhost:8080/"
    },
    "executionInfo": {
     "elapsed": 2119,
     "status": "ok",
     "timestamp": 1645278576866,
     "user": {
      "displayName": "권용찬",
      "photoUrl": "https://lh3.googleusercontent.com/a-/AOh14Ght8H8zZtbhWx02cFtHz0CgKUlClet5KlsCZmAoiA=s64",
      "userId": "00508429061058674342"
     },
     "user_tz": -540
    },
    "id": "pJu8HL57vJ4s",
    "outputId": "3f893554-eed6-47b4-d94d-9a466635ed7e"
   },
   "outputs": [],
   "source": [
    "test_loss, test_accuracy = model.evaluate(x_test, y_test, verbose=0)\n",
    "\n",
    "print('test set accuracy: ', test_accuracy)"
   ]
  },
  {
   "cell_type": "markdown",
   "metadata": {
    "id": "gA9d_T-NviGo"
   },
   "source": [
    "- 테스트 데이터 입력하여 결과 비교, 25개 테스트 데이터 이용\n",
    "- 실제 클래스 | 예측 클래스 비교"
   ]
  },
  {
   "cell_type": "code",
   "execution_count": null,
   "metadata": {
    "id": "TY9toLJevxyf"
   },
   "outputs": [],
   "source": [
    "test_prediction = np.argmax(model.predict(x_test), axis=-1)"
   ]
  },
  {
   "cell_type": "code",
   "execution_count": null,
   "metadata": {
    "colab": {
     "base_uri": "https://localhost:8080/",
     "height": 752
    },
    "executionInfo": {
     "elapsed": 7245,
     "status": "ok",
     "timestamp": 1645278643968,
     "user": {
      "displayName": "권용찬",
      "photoUrl": "https://lh3.googleusercontent.com/a-/AOh14Ght8H8zZtbhWx02cFtHz0CgKUlClet5KlsCZmAoiA=s64",
      "userId": "00508429061058674342"
     },
     "user_tz": -540
    },
    "id": "dzPsfUz_vcU3",
    "outputId": "752f8a46-e70e-4c50-b515-b5d448e14d9e"
   },
   "outputs": [],
   "source": [
    "plt.figure(figsize = (13, 13))\n",
    "\n",
    "start_index = 0\n",
    "for i in range(64):\n",
    "    plt.subplot(8, 8, i + 1)\n",
    "    plt.grid(False)\n",
    "    plt.xticks([])\n",
    "    plt.yticks([])\n",
    "    prediction = test_prediction[start_index + i]\n",
    "    actual = y_test[start_index + i]\n",
    "    col = 'g'\n",
    "    if prediction != actual:\n",
    "        col = 'r'\n",
    "    plt.xlabel('Actual={} || Pred={}'.format(actual, prediction), color = col)\n",
    "    plt.imshow(array_to_img(x_test[start_index + i]))\n",
    "plt.show()"
   ]
  },
  {
   "cell_type": "code",
   "execution_count": null,
   "metadata": {
    "id": "y-NVIeuKvuH3"
   },
   "outputs": [],
   "source": []
  }
 ],
 "metadata": {
  "accelerator": "GPU",
  "colab": {
   "authorship_tag": "ABX9TyPSF1MW6gbltLEB6J8LtJVb",
   "mount_file_id": "1rTuKvl0eYeZzXmM4c-b3lUWM_FH3_Hqn",
   "name": "elice_model.ipynb",
   "provenance": []
  },
  "kernelspec": {
   "display_name": "Python 3 (ipykernel)",
   "language": "python",
   "name": "python3"
  },
  "language_info": {
   "codemirror_mode": {
    "name": "ipython",
    "version": 3
   },
   "file_extension": ".py",
   "mimetype": "text/x-python",
   "name": "python",
   "nbconvert_exporter": "python",
   "pygments_lexer": "ipython3",
   "version": "3.8.9"
  }
 },
 "nbformat": 4,
 "nbformat_minor": 1
}
